{
 "cells": [
  {
   "cell_type": "code",
   "execution_count": 1,
   "metadata": {
    "ExecuteTime": {
     "end_time": "2023-08-06T05:36:21.677625Z",
     "start_time": "2023-08-06T05:36:20.625959Z"
    }
   },
   "outputs": [],
   "source": [
    "from langchain.document_loaders import PyPDFLoader\n",
    "from langchain.embeddings import OpenAIEmbeddings\n",
    "from langchain.vectorstores.pgvector import PGVector\n"
   ]
  },
  {
   "cell_type": "code",
   "execution_count": 2,
   "metadata": {
    "ExecuteTime": {
     "end_time": "2023-08-06T05:36:25.197838Z",
     "start_time": "2023-08-06T05:36:25.188299Z"
    }
   },
   "outputs": [],
   "source": [
    "from dotenv import load_dotenv\n",
    "\n",
    "load_dotenv()\n",
    "import os\n",
    "\n",
    "def create_connection_string():\n",
    "    \"\"\"db接続文字列を生成\"\"\"\n",
    "    DB_HOST = os.getenv(\"PGHOST\")\n",
    "    DB_PORT = int(os.getenv(\"PGPORT\"))\n",
    "    DB_NAME = os.getenv(\"PGDATABASE\")\n",
    "    DB_USER = os.getenv(\"PGUSER\")\n",
    "    DB_PASS = os.getenv(\"PGPASSWORD\")\n",
    "\n",
    "    return f\"postgresql+psycopg2://{DB_USER}:{DB_PASS}@{DB_HOST}:{DB_PORT}/{DB_NAME}\"\n"
   ]
  },
  {
   "cell_type": "code",
   "execution_count": 3,
   "metadata": {
    "ExecuteTime": {
     "end_time": "2023-08-06T05:36:32.345440Z",
     "start_time": "2023-08-06T05:36:26.641062Z"
    }
   },
   "outputs": [],
   "source": [
    "loader = PyPDFLoader(\"./BCG-x-SIA-Strengthening-the-Global-Semiconductor-Value-Chain-April-2021_1.pdf\")\n",
    "pages = loader.load_and_split()\n",
    "embeddings = OpenAIEmbeddings()\n",
    "\n",
    "vector_store = PGVector.from_documents(\n",
    "    documents=pages,\n",
    "    embedding=embeddings,\n",
    "    collection_name=\"pages\",\n",
    "    connection_string=create_connection_string()\n",
    ")\n"
   ]
  },
  {
   "cell_type": "code",
   "execution_count": 6,
   "metadata": {
    "collapsed": false,
    "jupyter": {
     "outputs_hidden": false
    }
   },
   "outputs": [],
   "source": [
    "from langchain.embeddings import OpenAIEmbeddings\n",
    "from langchain.chains import RetrievalQAWithSourcesChain\n",
    "from langchain.chat_models import ChatOpenAI\n",
    "\n",
    "embeddings = OpenAIEmbeddings()\n",
    "\n",
    "vector_store = PGVector(\n",
    "    connection_string=create_connection_string(),\n",
    "    embedding_function=embeddings,\n",
    "    collection_name=\"pages\",\n",
    ")\n",
    "qna = RetrievalQAWithSourcesChain.from_chain_type(\n",
    "    llm=ChatOpenAI(temperature=0.0, model=\"gpt-4\"),\n",
    "    chain_type=\"stuff\",\n",
    "    retriever=vector_store.as_retriever(),\n",
    ")\n",
    "\n",
    "res = qna(\n",
    "    {\n",
    "        \"question\": \"半導体サプライチェーンのチョークポイントは\" + \"\\n\\nanswer in Japanese.\",\n",
    "    },\n",
    "    return_only_outputs=True,\n",
    ")\n",
    "content = res[\"answer\"]\n",
    "if \"sources\" in res and res[\"sources\"]:\n",
    "    content += \"\\n\" + \"sources:\" + \"\\n\" + \"\\n\".join(res[\"sources\"].split(\",\"))\n",
    "\n"
   ]
  },
  {
   "cell_type": "code",
   "execution_count": 10,
   "metadata": {},
   "outputs": [
    {
     "data": {
      "text/plain": [
       "'半導体サプライチェーンのチョークポイントは、その高度に複雑な製品設計と製造プロセスにあります。現代のチップの開発は、ハードウェアとソフトウェアの両方に深い技術的専門知識を必要とし、高度な設計ツールと専門企業によって提供される知的財産（IP）に依存しています。その後の製造プロセスでは、原材料のウェハー、一般的な化学物質、特殊化学物質、バルクガスなど、約300種類の異なる入力が必要となります。これらの入力は、リソグラフィーや計量ツールなど、50以上のクラスの高精度な工学機器によって処理されます。このような高度に専門化したサプライヤーは、しばしば異なる国に拠点を置いています。その後、チップは世界中を行き来するグローバルな旅をします。このような複雑なグローバルな半導体サプライチェーンの理解は、業界が継続的なパフォーマンスとコスト改善を提供する能力に影響を与える可能性のあるリスクを特定し、それらに対処する方法を議論するために重要です。\\n'"
      ]
     },
     "execution_count": 10,
     "metadata": {},
     "output_type": "execute_result"
    }
   ],
   "source": [
    "res[\"answer\"]"
   ]
  },
  {
   "cell_type": "code",
   "execution_count": null,
   "metadata": {},
   "outputs": [],
   "source": []
  }
 ],
 "metadata": {
  "kernelspec": {
   "display_name": "Python 3 (ipykernel)",
   "language": "python",
   "name": "python3"
  },
  "language_info": {
   "codemirror_mode": {
    "name": "ipython",
    "version": 3
   },
   "file_extension": ".py",
   "mimetype": "text/x-python",
   "name": "python",
   "nbconvert_exporter": "python",
   "pygments_lexer": "ipython3",
   "version": "3.11.4"
  }
 },
 "nbformat": 4,
 "nbformat_minor": 4
}
